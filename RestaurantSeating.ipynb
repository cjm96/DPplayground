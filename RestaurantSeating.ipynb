{
 "cells": [
  {
   "cell_type": "code",
   "execution_count": 1,
   "id": "focused-belfast",
   "metadata": {},
   "outputs": [
    {
     "data": {
      "image/png": "[encoded data removed]",
      "text/plain": [
       "<Figure size 432x288 with 1 Axes>"
      ]
     },
     "metadata": {
      "needs_background": "light"
     },
     "output_type": "display_data"
    }
   ],
   "source": [
    "import numpy as np\n",
    "from scipy.stats import norm\n",
    "import matplotlib.pyplot as plt\n",
    "\n",
    "# parameters of the DP\n",
    "alpha, H = 2, norm()\n",
    "\n",
    "def restaurant_seating(n=100):\n",
    "    # initially our restaurant is empy\n",
    "    theta = {}\n",
    "\n",
    "    # 1st customer\n",
    "    table = H.rvs() \n",
    "    theta[table] = 1\n",
    "\n",
    "    # (k+1)th customer\n",
    "    for k in np.arange(1, n): \n",
    "        u = np.random.uniform()\n",
    "        \n",
    "        if u<alpha/(alpha+k):   # pick a new table \n",
    "            table = H.rvs() \n",
    "            theta[table] = 1\n",
    "                        \n",
    "        else:                   # sit with friends \n",
    "            occupied_tables = list(theta.keys())\n",
    "            \n",
    "            probabilities = np.array(list(theta.values()))\n",
    "            probabilities = probabilities/np.sum(list(theta.values()))\n",
    "            \n",
    "            table = np.random.choice(occupied_tables, \n",
    "                                     p=probabilities)\n",
    "            \n",
    "            theta[table] += 1\n",
    "        \n",
    "    return theta\n",
    "\n",
    "theta = restaurant_seating()\n",
    "\n",
    "for k, v in theta.items():\n",
    "    plt.plot([k,k], [0,v], 'b-')\n",
    "plt.xlabel(\"x\"); plt.ylabel(\"Counts\"); plt.xlim(-4,4);"
   ]
  },
  {
   "cell_type": "code",
   "execution_count": null,
   "id": "imperial-lease",
   "metadata": {},
   "outputs": [],
   "source": []
  }
 ],
 "metadata": {
  "kernelspec": {
   "display_name": "Python 3",
   "language": "python",
   "name": "python3"
  },
  "language_info": {
   "codemirror_mode": {
    "name": "ipython",
    "version": 3
   },
   "file_extension": ".py",
   "mimetype": "text/x-python",
   "name": "python",
   "nbconvert_exporter": "python",
   "pygments_lexer": "ipython3",
   "version": "3.9.1"
  }
 },
 "nbformat": 4,
 "nbformat_minor": 5
}
